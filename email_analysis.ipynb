{
  "nbformat": 4,
  "nbformat_minor": 0,
  "metadata": {
    "colab": {
      "name": "email_analysis.ipynb",
      "provenance": [],
      "collapsed_sections": []
    },
    "kernelspec": {
      "name": "python3",
      "display_name": "Python 3"
    }
  },
  "cells": [
    {
      "cell_type": "markdown",
      "metadata": {
        "id": "ncxT4yciB9DY",
        "colab_type": "text"
      },
      "source": [
        "# Getting the Subject of the Email and Visualisation"
      ]
    },
    {
      "cell_type": "markdown",
      "metadata": {
        "id": "EapyrOLUDsRb",
        "colab_type": "text"
      },
      "source": [
        "## Getting the Data\n"
      ]
    },
    {
      "cell_type": "code",
      "metadata": {
        "id": "KUVN3H6IANY_",
        "colab_type": "code",
        "colab": {}
      },
      "source": [
        "\"\"\"Import Libraries\"\"\"\n",
        "import imaplib\n",
        "import email\n",
        "import getpass\n",
        "import pandas as pd"
      ],
      "execution_count": 0,
      "outputs": []
    },
    {
      "cell_type": "code",
      "metadata": {
        "id": "kk3Zkb43AQLt",
        "colab_type": "code",
        "colab": {}
      },
      "source": [
        "\"\"\"\n",
        "Desired Email address is entered as a string\n",
        "Then login to the email server\n",
        "\"\"\"\n",
        "username =  Email Adress\n",
        "password = getpass.getpass(\"Enter password: \")\n",
        "mail = imaplib.IMAP4_SSL('imap.gmail.com')\n",
        "mail.login(username, password)"
      ],
      "execution_count": 0,
      "outputs": []
    },
    {
      "cell_type": "code",
      "metadata": {
        "id": "ztTc5b1lAQNx",
        "colab_type": "code",
        "colab": {}
      },
      "source": [
        "\"\"\"Checking the mailboxes and selecting one\"\"\"\n",
        "print(mail.list())\n",
        "mail.select(\"inbox\")\n"
      ],
      "execution_count": 0,
      "outputs": []
    },
    {
      "cell_type": "code",
      "metadata": {
        "id": "ADl-R0_yAQP0",
        "colab_type": "code",
        "colab": {}
      },
      "source": [
        "\"\"\"Searching for emails in the mailbox\"\"\"\n",
        "result, numbers = mail.uid('search', None, \"ALL\")\n",
        "uids = numbers[0].split()\n",
        "uids = [id.decode(\"utf-8\") for id in uids ]\n",
        "uids = uids[-1:-101:-1]"
      ],
      "execution_count": 0,
      "outputs": []
    },
    {
      "cell_type": "code",
      "metadata": {
        "id": "6QcB095VAQRy",
        "colab_type": "code",
        "colab": {}
      },
      "source": [
        "\"\"\"Fetching the desired content\"\"\"\n",
        "result, messages = mail.uid('fetch', ','.join(uids), '(BODY[HEADER.FIELDS (SUBJECT FROM DATE)])')\n"
      ],
      "execution_count": 0,
      "outputs": []
    },
    {
      "cell_type": "code",
      "metadata": {
        "id": "bjx7iUYWAQT-",
        "colab_type": "code",
        "colab": {}
      },
      "source": [
        "\"\"\"Iterating through what was fetched, making it an email object and saving it to a dataframe\"\"\"\n",
        "date_list = []\n",
        "from_list = [] \n",
        "subject_text = []\n",
        "for _, message in messages[::2]:\n",
        "    msg = email.message_from_bytes(message)\n",
        "    decode = email.header.decode_header(msg['Subject'])[0]\n",
        "    if isinstance(decode[0],bytes):\n",
        "      decoded = decode[0].decode(errors=\"ignore\")\n",
        "      subject_text.append(decoded)\n",
        "    else:\n",
        "      subject_text.append(decode[0])\n",
        "      \n",
        "    date_list.append(msg.get('date'))\n",
        "    fromlist = msg.get('From')\n",
        "    fromlist = fromlist.split(\"<\")[0].replace('\"', '')\n",
        "    from_list1.append(fromlist)\n",
        "date_list = pd.to_datetime(date_list1)\n",
        "date_list1 = []\n",
        "for item in date_list:\n",
        "  date_list1.append(item.isoformat(' ')[:-6])\n",
        "print(len(subject_text))\n",
        "print(len(from_list1))\n",
        "print(len(date_list1))\n",
        "df1 = pd.DataFrame(data={'Date':date_list1,'Sender':from_list1,'Subject':subject_text})\n",
        "print(df1.head(10))\n",
        "df1.to_csv('inbox_email.csv',index=False)"
      ],
      "execution_count": 0,
      "outputs": []
    },
    {
      "cell_type": "markdown",
      "metadata": {
        "id": "iohlRd1oDnL4",
        "colab_type": "text"
      },
      "source": [
        "## Data Visualisation\n"
      ]
    },
    {
      "cell_type": "code",
      "metadata": {
        "id": "sfhVq7sMAQWD",
        "colab_type": "code",
        "colab": {}
      },
      "source": [
        "\"\"\"Opening and viewing the csv\"\"\"\n",
        "emails = pd.read_csv(\"inbox_email.csv\")\n",
        "emails.head()"
      ],
      "execution_count": 0,
      "outputs": []
    },
    {
      "cell_type": "code",
      "metadata": {
        "id": "lwl-SRXmAQYW",
        "colab_type": "code",
        "colab": {}
      },
      "source": [
        "\"\"\"Statistical data\"\"\"\n",
        "emails.describe()"
      ],
      "execution_count": 0,
      "outputs": []
    },
    {
      "cell_type": "code",
      "metadata": {
        "id": "3Wpn6LSIAQbY",
        "colab_type": "code",
        "colab": {}
      },
      "source": [
        "\"\"\"Using Datetime to create new values\n",
        "SinceMid is the number of hours after midnight\"\"\"\n",
        "from datetime import datetime\n",
        "FMT = '%H:%M:%S'\n",
        "emails['Time'] = emails['Date'].apply(lambda x: datetime.strptime(x, '%Y-%m-%d %H:%M:%S').strftime(FMT))\n",
        "emails['SinceMid'] = emails['Time'].apply(lambda x: (datetime.strptime(x, FMT) - datetime.strptime(\"00:00:00\", FMT)).seconds) / 60 / 60"
      ],
      "execution_count": 0,
      "outputs": []
    },
    {
      "cell_type": "code",
      "metadata": {
        "id": "mH9CyjFgAtZG",
        "colab_type": "code",
        "colab": {}
      },
      "source": [
        "emails.head()"
      ],
      "execution_count": 0,
      "outputs": []
    },
    {
      "cell_type": "code",
      "metadata": {
        "id": "WxWf9IEaAtb6",
        "colab_type": "code",
        "colab": {}
      },
      "source": [
        "\"\"\"Using Wordcloud to see the most used words in the email subjects\"\"\" \n",
        "# Libraries\n",
        "from wordcloud import WordCloud\n",
        "import matplotlib.pyplot as plt\n",
        "\n",
        " \n",
        "# Create a list of words\n",
        "text = \"\"\n",
        "for item in emails[\"Subject\"]:\n",
        "  if isinstance(item,str):\n",
        "    text += \" \" + item\n",
        "  text.replace(\"'\", \"\")\n",
        "  text.replace(\",\",\"\")\n",
        "  text.replace('\"','')\n",
        "\n",
        "\n",
        "# Create the wordcloud object\n",
        "wordcloud = WordCloud(width=800, height=800, background_color=\"white\")\n",
        "\n",
        "# Display the generated image:\n",
        "wordcloud.generate(text)\n",
        "plt.figure(figsize=(8,8))\n",
        "plt.imshow(wordcloud, interpolation=\"bilinear\")\n",
        "plt.axis(\"off\")\n",
        "plt.margins(x=0, y=0)\n",
        "plt.title(\"Most Used Subject Words\", fontsize=20,ha=\"center\", pad=20)\n",
        "plt.show()"
      ],
      "execution_count": 0,
      "outputs": []
    },
    {
      "cell_type": "code",
      "metadata": {
        "id": "SRDyILFQAtgF",
        "colab_type": "code",
        "colab": {}
      },
      "source": [
        "import seaborn as sns\n",
        "sns.distplot(emails[\"SinceMid\"],bins=20)\n",
        "plt.title(\"Hours since midnight\")"
      ],
      "execution_count": 0,
      "outputs": []
    },
    {
      "cell_type": "code",
      "metadata": {
        "id": "eBH6TtscfXpl",
        "colab_type": "code",
        "colab": {}
      },
      "source": [
        ""
      ],
      "execution_count": 0,
      "outputs": []
    },
    {
      "cell_type": "code",
      "metadata": {
        "id": "_2vdWQVKncPl",
        "colab_type": "code",
        "colab": {}
      },
      "source": [
        ""
      ],
      "execution_count": 0,
      "outputs": []
    }
  ]
}
